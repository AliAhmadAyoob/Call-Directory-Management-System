{
 "cells": [
  {
   "cell_type": "markdown",
   "id": "c413188b-7ee2-4f3b-915e-c0a3d672d693",
   "metadata": {},
   "source": [
    "# Singnup /Login System"
   ]
  },
  {
   "cell_type": "code",
   "execution_count": null,
   "id": "0571cc29-5d67-4dc0-9cf4-f19175bb2bb9",
   "metadata": {},
   "outputs": [],
   "source": []
  },
  {
   "cell_type": "code",
   "execution_count": 1,
   "id": "d677eb62-b1a2-4bf7-b1f2-4a9596c4ec8d",
   "metadata": {},
   "outputs": [
    {
     "name": "stdout",
     "output_type": "stream",
     "text": [
      "Table created successfully\n"
     ]
    }
   ],
   "source": [
    "import mysql.connector\n",
    "connector = mysql.connector.connect(\n",
    "    host=\"localhost\",\n",
    "    user = \"root\",\n",
    "    password =\"admin\",\n",
    "    database=\"my_project\"\n",
    " )\n",
    "connect = connector.cursor( )\n",
    "statement = \"show databases\"\n",
    "table =\"show tables\"\n",
    "create = \"\"\"create table if not exists client_data1(\n",
    "name varchar(255),fname varchar(255),CNIC varchar(255),\n",
    "contact varchar(255),address varchar(255),\n",
    "email varchar(255),username varchar(255)\n",
    ",password varchar(255),\n",
    "id int auto_increment primary key)\"\"\"\n",
    "\n",
    "connect.execute(create)\n",
    "print(\"Table created successfully\")\n",
    "\n",
    "connect.execute(\"alter table client_data1 auto_increment = 10001\")\n",
    "\n",
    "\n",
    "\n",
    "\n",
    "def create_account(vew):\n",
    "    if vew== 1:\n",
    "        print(\"Let's begin the process of creating account...............\\nFor this, please enter the requires details\")\n",
    "        name=input(\"Enter your name:\")\n",
    "        fname=input(\"Enter your father name:\")\n",
    "        cnic =int(input(\"Enter your CNIC number:\"))\n",
    "        contact =int(input(\"Enter your Contact number:\"))\n",
    "        address =input(\"Enter your residental address:\")\n",
    "        email = input(\"Enter your Email:\")\n",
    "        user_name = input(\"Enter your username:\")\n",
    "        password = input(\"Create your password:\")\n",
    "        # cur.fetchall()\n",
    "\n",
    "        select = \"select * from client_data1 where cnic = %s\"\n",
    "        connect.execute(select,(cnic,))\n",
    "        existing_account = connect.fetchone()\n",
    "\n",
    "        if existing_account:\n",
    "            print(\"Account creation failed! Your account already exists \")\n",
    "            \n",
    "        insert =\"\"\"insert into client_data1 (name, fname, CNIC ,contact ,address,\n",
    "        email,username,password) \n",
    "        values(%s,%s,%s,%s,%s,%s,%s,%s)\"\"\"\n",
    "        values =[\n",
    "        name, fname, cnic \n",
    "        ,contact ,address,\n",
    "        email,user_name,password      \n",
    "        ]\n",
    "        connect.execute(insert,values)\n",
    "        connector.commit()\n",
    "        print(f\"Rows Affected : {connect.rowcount}\") \n",
    "        connect.execute(select,(cnic,))\n",
    "        final = connect.fetchone()\n",
    "        if final:\n",
    "            print(\"\\n--- Account Created Successfully ---\")\n",
    "            print(f\"Name: {final[0]}\")\n",
    "            print(f\"Father's Name: {final[1]}\")\n",
    "            print(f\"CNIC: {final[2]}\")\n",
    "            print(f\"Contact Number: {final[3]}\")\n",
    "            print(f\"Address: {final[4]}\")\n",
    "            print(f\"Email: {final[5]}\")\n",
    "            print(f\"Username: {final[6]}\")\n",
    "            print(f\"Password: {final[7]}\")\n",
    "            print(f\"ID : {final[8]}\")\n",
    "            \n",
    "\n",
    "\n",
    "def login(wer):\n",
    "    id_num = int(input(\"Enter your ID number:\"))\n",
    "    log_in = input(\"Enter your account password\")\n",
    "    \n",
    "    select = \"select * from client_data1 where id = %s\"\n",
    "    connect.execute(select, (id_num,))\n",
    "   \n",
    "    final = connect.fetchone()\n",
    "    if final:\n",
    "        var = final[7]   \n",
    "        var1 = final[8]   \n",
    "        if  log_in == var and id_num == var1 :\n",
    "            print(\"\\nLogin Succesful\\n\")\n",
    "            menu_options()\n",
    "    else:\n",
    "        print(\"Try again\")\n",
    "    "
   ]
  },
  {
   "cell_type": "code",
   "execution_count": null,
   "id": "11ac15a9-4855-4145-88f9-e6fbe6ce813a",
   "metadata": {},
   "outputs": [],
   "source": []
  },
  {
   "cell_type": "markdown",
   "id": "3585e75c-a21e-4c82-9f89-31cb9e53ac53",
   "metadata": {},
   "source": [
    "# Call Directory Management System\n"
   ]
  },
  {
   "cell_type": "code",
   "execution_count": 13,
   "id": "0a29443a-c90d-4dde-91c4-75f0c7cb596d",
   "metadata": {},
   "outputs": [
    {
     "name": "stdout",
     "output_type": "stream",
     "text": [
      "Table created successfully\n",
      "('call_data',)\n",
      "('call_data1',)\n",
      "('client_data1',)\n",
      "('clients_data',)\n",
      "True\n"
     ]
    }
   ],
   "source": [
    "\n",
    "create_table = \"\"\" create table if not exists call_data1 (\n",
    "firstname varchar(255) , lastname varchar(255),\n",
    "city varchar(255),country varchar(255),\n",
    "email varchar(255),contact varchar(12), \n",
    "occuption varchar(255),id int primary key auto_increment,\n",
    "address varchar(255),contact_2 varchar(255))\"\"\"\n",
    "connect.fetchall()\n",
    "\n",
    "connect.execute(create_table)\n",
    "print(\"Table created successfully\")\n",
    "\n",
    "connect.execute(\"show tables\")\n",
    "for i in connect:\n",
    "    print(i)\n",
    "    \n",
    "connect.execute(\"alter table call_data1 auto_increment=11110\")\n",
    "print(True)\n",
    "\n",
    "def display_data():\n",
    "    option = \"To display ----whole data-----> press 1\\nTo ----view specific data-----> press 2\"\n",
    "    print(option)\n",
    "    input_option = int(input(\"Enter your option:\"))\n",
    "    connect.fetchall()\n",
    "    if (input_option == 1) :\n",
    "        select_query = \"select * from call_data1 \"\n",
    "        connect.execute(select_query)\n",
    "        final = connect.fetchall()\n",
    "\n",
    "        if final :\n",
    "            print(\"\\n--- Dispalying Data---\")\n",
    "            print(f\"First Name: {final[0]}\")\n",
    "            print(f\"Last Name: {final[1]}\")\n",
    "            print(f\"City: {final[2]}\")\n",
    "            print(f\"Country: {final[3]}\")\n",
    "            print(f\"Email: {final[4]}\")\n",
    "            print(f\"Contact Number: {final[5]}\")\n",
    "            print(f\"2nd Contact Number: {final[9]}\")\n",
    "            print(f\"Occupation: {final[6]}\")\n",
    "            print(f\"ID: {final[7]}\")\n",
    "            print(f\"Address: {final[8]}\")\n",
    "            \n",
    "        else:\n",
    "            print(\"Try again something wet wrong!\")\n",
    "\n",
    "    elif (input_option == 2):\n",
    "        enter_id = int(input(\"Enter the ID to view its data:\"))\n",
    "        select_query = \"select * from call_data1 where id= %s\"\n",
    "        connect.execute(select_query,(enter_id,))\n",
    "        final = connect.fetchone()\n",
    "        if final:\n",
    "            print(\"\\n--- Dispalying Data---\")\n",
    "            print(f\"First Name: {final[0]}\")\n",
    "            print(f\"Last Name: {final[1]}\")\n",
    "            print(f\"City: {final[2]}\")\n",
    "            print(f\"Country: {final[3]}\")\n",
    "            print(f\"Email: {final[4]}\")\n",
    "            print(f\"Contact Number: {final[5]}\")\n",
    "            print(f\"2nd Contact Number: {final[9]}\")\n",
    "            print(f\"Occupation: {final[6]}\")\n",
    "            print(f\"ID: {final[7]}\")\n",
    "            print(f\"Address: {final[8]}\")\n",
    "            \n",
    "        else:\n",
    "            print(\"Try again something wet wrong!\")\n",
    "\n",
    "    else:\n",
    "        print(\"Enter correct option!\")\n",
    "\n",
    "def add_contact():\n",
    "    first_name = input(\"Enter your first name : \")\n",
    "    last_name  = input(\"Enter your last name : \")\n",
    "    city_data = input(\"Enter your city:\")\n",
    "    country_data =input(\"Enter your country: \")\n",
    "    email_data =input(\"Enter your email:\")\n",
    "    occupation_data =input(\"Enter your occupation: \")\n",
    "    contact_data =int(input(\"Enter your contact number:\"))\n",
    "    contact_data2 = input(\"Enter your 2nd Contact number\")\n",
    "    address_data = input(\"Enter your address: \")\n",
    "    \n",
    "    data_insert = \"insert into call_data1 (firstname,lastname,city,country,email,contact,occuption,address,contact_2)  values (%s,%s,%s,%s,%s,%s,%s,%s,%s)\"\n",
    "    data_values = [\n",
    "    first_name , last_name , city_data ,country_data ,\n",
    "    email_data , contact_data, occupation_data, address_data,contact_data2 ] \n",
    "    connect.fetchall()\n",
    "    \n",
    "    connect.execute(data_insert,data_values)\n",
    "    \n",
    "    print(f\"\\n-----Rows affected-----> {connect.rowcount}\")\n",
    "    connect.fetchall()\n",
    "    select_query = \"select * from call_data1 order by id desc limit 1\"\n",
    "    connect.execute(select_query)\n",
    "    final = connect.fetchone()\n",
    "    connector.commit()\n",
    "    \n",
    "    if final :\n",
    "        print(\"\\n--- Account Created Successfully ---\")\n",
    "        print(f\"First Name: {final[0]}\")\n",
    "        print(f\"Last Name: {final[1]}\")\n",
    "        print(f\"City: {final[2]}\")\n",
    "        print(f\"Country: {final[3]}\")\n",
    "        print(f\"Email: {final[4]}\")\n",
    "        print(f\"Contact Number: {final[5]}\")\n",
    "        print(f\"2nd Contact Number: {final[9]}\")\n",
    "        print(f\"Occupation: {final[6]}\")\n",
    "        print(f\"ID: {final[7]}\")\n",
    "        print(f\"Address: {final[8]}\")\n",
    "        \n",
    "\n",
    "    else:\n",
    "        print(\"Try again something wet wrong!\")\n",
    "\n",
    "\n",
    "def delete_data():\n",
    "    delete_option = \"To delete ----whole data----> press 11\\nTo ----delete specific data----> press 12\"\n",
    "    print(delete_option)\n",
    "    delete_input= (int(input(\"Enter your option: \")))\n",
    "\n",
    "    if delete_input == 11:\n",
    "        print(\"\\n----------Deleting whole data-----------\")\n",
    "        connect.execute(\"drop table call_data1\")\n",
    "        connector.commit()\n",
    "        print(\"\\nWhole data deleted successfully\\n\")\n",
    "    elif delete_input == 12:\n",
    "        print(\"----------Process for Deleting Specific data ----------\")\n",
    "        id_delete = int(input(\"Enter the id to delete data: \"))\n",
    "        drop_row = \"delete from call_data1 where id = %s\"\n",
    "        connect.execute(drop_row,(id_delete,))\n",
    "        connector.commit()\n",
    "        print(f\"{connect.rowcount} record(s) deleted!\")\n",
    "    else:\n",
    "        print(\"Enter correct input!\")\n",
    "\n",
    "def update_data():\n",
    "    menu_update = \"--------Process for editing data--------\"\n",
    "    id_update = int(input(\"Enter The ID To start editing process\" ))\n",
    "    while 1:\n",
    "        choice = \"\"\"\\n\\tTo edit first name--------------> press 1\n",
    "        To edit last name-------------> press 2\n",
    "        To edit City press ---------------> 3 \n",
    "        To edit Country press ----------> 4 \n",
    "        To edit Email press ----------> 5\n",
    "        To edit contact Number-> press 6\n",
    "        To edit Occupation --->press 7\n",
    "        To edit Address ---> press 8\n",
    "        To edit 2nd Contact Number---> press 9\n",
    "        To exit-------------------> press 10\"\"\"\n",
    "        print(menu_update , choice)\n",
    "        option= int(input(\"Enter Your Option: \"))\n",
    "    \n",
    "        if (option == 1):\n",
    "            input_query = input(\"Enter the name to set as fist name \")\n",
    "            query = \"update call_data1 set firstname =%s where id = %s\"\n",
    "            connect.execute(query,(input_query,id_update))\n",
    "            connector.commit()\n",
    "            print(connect.rowcount , \"record(s) affected\")\n",
    "    \n",
    "        elif (option ==2) :\n",
    "            input_query = input(\"Enter the name to set as last name \")\n",
    "            query = \"update call_data1 set lastname =%s where id = %s\"\n",
    "            connect.execute(query,(input_query,id_update))\n",
    "            connector.commit()\n",
    "            print(connect.rowcount , \"record(s) affected\")\n",
    "        elif (option == 3):\n",
    "            input_query = input(\"Enter the City name to set as City \")\n",
    "            query = \"update call_data1 set city =%s where id = %s\"\n",
    "            connect.execute(query,(input_query,id_update))\n",
    "            connector.commit()\n",
    "            print(connect.rowcount , \"record(s) affected\")\n",
    "        elif (option ==4) :\n",
    "            input_query = input(\"Enter the Country name to set as Country \")\n",
    "            query = \"update call_data1 set country =%s where id = %s\"\n",
    "            connect.execute(query,(input_query,id_update))\n",
    "            connector.commit()\n",
    "            print(connect.rowcount , \"record(s) affected\")\n",
    "        elif (option ==5) :\n",
    "            input_query = input(\"Enter the Email address to set as email \")\n",
    "            query = \"update call_data1 set email =%s where id = %s\"\n",
    "            connect.execute(query,(input_query,id_update))\n",
    "            connector.commit()\n",
    "            print(connect.rowcount , \"record(s) affected\")\n",
    "        elif (option ==6):\n",
    "            input_query = int(input(\"Enter the Contact Number to update \"))\n",
    "            query = \"update call_data1 set contact =%s where id = %s\"\n",
    "            connect.execute(query,(input_query,id_update))\n",
    "            connector.commit()\n",
    "            print(connect.rowcount , \"record(s) affected\")\n",
    "        elif (option ==7) :\n",
    "            input_query = input(\"Enter the Occupation to upddate \")\n",
    "            query = \"update call_data1 set occcuption=%s where id = %s\"\n",
    "            connect.execute(query,(input_query,id_update))\n",
    "            connector.commit()\n",
    "            print(connect.rowcount , \"record(s) affected\")\n",
    "        elif (option ==8):\n",
    "            input_query = input(\"Enter the address to update:\")\n",
    "            query = \"update call_data1 set address =%s where id = %s\"\n",
    "            connect.execute(query,(input_query,id_update))\n",
    "            connector.commit()\n",
    "            print(connect.rowcount , \"record(s) affected\")\n",
    "        elif (option == 9):\n",
    "            input_query = input(\"Enter the @nd Contact Number to update:\")\n",
    "            query = \"update call_data1 set contact_2 =%s where id = %s\"\n",
    "            connect.execute(query,(input_query,id_update))\n",
    "            connector.commit()\n",
    "            print(connect.rowcount , \"record(s) affected\")\n",
    "        elif (option==10):\n",
    "            break\n",
    "        else:\n",
    "            print(\"Enter correct option\")\n",
    "\n",
    "\n"
   ]
  },
  {
   "cell_type": "code",
   "execution_count": 3,
   "id": "96d68fef-dfd9-4710-827f-f5d650c6e577",
   "metadata": {
    "scrolled": true
   },
   "outputs": [],
   "source": [
    "def menu_options():\n",
    "\n",
    "    while 1:\n",
    "        menu = \"\"\"\\nPress-------> 1 to Add Contact data \n",
    "Press-----> 2 to display contact nformation \n",
    "Press----> 3 to edit contact information \n",
    "Press---> 4 to delete contact information\n",
    "Press -------> 5 To Exit\"\"\"\n",
    "        print(menu)\n",
    "        choice = int(input(\"Enter your choice:\"))\n",
    "        \n",
    "        if (choice == 1):\n",
    "            print(\"\\n----Starting the process of adding data----\\n\")\n",
    "            add_contact()\n",
    "        elif (choice == 2):\n",
    "            print(\"\\nDisplaying contact information\")\n",
    "            display_data()\n",
    "        elif (choice == 3) :\n",
    "            print(\"\\nStarting the process of editing contact information\")\n",
    "            update_data()\n",
    "        elif (choice == 4) :\n",
    "            print(\"\\nProcess of deleting contact information starts\")\n",
    "            delete_data()\n",
    "        elif (choice == 5) :\n",
    "            print(\"\\nExiting the system\")\n",
    "            break\n"
   ]
  },
  {
   "cell_type": "markdown",
   "id": "8c1f8719-52f4-434a-93d9-564fa1442f75",
   "metadata": {},
   "source": [
    "# Calling System"
   ]
  },
  {
   "cell_type": "code",
   "execution_count": 15,
   "id": "56a73e31-e69c-42a0-ac99-1eb51ae1ab9e",
   "metadata": {},
   "outputs": [
    {
     "name": "stdin",
     "output_type": "stream",
     "text": [
      "Enter your name:\t q\n"
     ]
    },
    {
     "name": "stdout",
     "output_type": "stream",
     "text": [
      "Welcome Q!\n"
     ]
    },
    {
     "name": "stdin",
     "output_type": "stream",
     "text": [
      "\n",
      "Welcome to Call Directory Management System\n",
      "To create Account press 1\n",
      "For login press 2\n",
      "For Exit press 3\n",
      " 2\n",
      "Enter your ID number: 10001\n",
      "Enter your account password 123\n"
     ]
    },
    {
     "name": "stdout",
     "output_type": "stream",
     "text": [
      "\n",
      "Login Succesful\n",
      "\n",
      "\n",
      "Press-------> 1 to Add Contact data \n",
      "Press-----> 2 to display contact nformation \n",
      "Press----> 3 to edit contact information \n",
      "Press---> 4 to delete contact information\n",
      "Press -------> 5 To Exit\n"
     ]
    },
    {
     "name": "stdin",
     "output_type": "stream",
     "text": [
      "Enter your choice: 1\n"
     ]
    },
    {
     "name": "stdout",
     "output_type": "stream",
     "text": [
      "\n",
      "----Starting the process of adding data----\n",
      "\n"
     ]
    },
    {
     "name": "stdin",
     "output_type": "stream",
     "text": [
      "Enter your first name :  a\n",
      "Enter your last name :  s\n",
      "Enter your city: d\n",
      "Enter your country:  f\n",
      "Enter your email: gh\n",
      "Enter your occupation:  h\n",
      "Enter your contact number: 1\n",
      "Enter your 2nd Contact number \n",
      "Enter your address:  q\n"
     ]
    },
    {
     "name": "stdout",
     "output_type": "stream",
     "text": [
      "\n",
      "-----Rows affected-----> 1\n",
      "\n",
      "--- Account Created Successfully ---\n",
      "First Name: a\n",
      "Last Name: s\n",
      "City: d\n",
      "Country: f\n",
      "Email: gh\n",
      "Contact Number: 1\n",
      "2nd Contact Number: \n",
      "Occupation: h\n",
      "ID: 11132\n",
      "Address: q\n",
      "\n",
      "Press-------> 1 to Add Contact data \n",
      "Press-----> 2 to display contact nformation \n",
      "Press----> 3 to edit contact information \n",
      "Press---> 4 to delete contact information\n",
      "Press -------> 5 To Exit\n"
     ]
    },
    {
     "name": "stdin",
     "output_type": "stream",
     "text": [
      "Enter your choice: 2\n"
     ]
    },
    {
     "name": "stdout",
     "output_type": "stream",
     "text": [
      "\n",
      "Displaying contact information\n",
      "To display ----whole data-----> press 1\n",
      "To ----view specific data-----> press 2\n"
     ]
    },
    {
     "name": "stdin",
     "output_type": "stream",
     "text": [
      "Enter your option: 1\n"
     ]
    },
    {
     "name": "stdout",
     "output_type": "stream",
     "text": [
      "\n",
      "--- Dispalying Data---\n",
      "First Name: ('asd', 's', 'd', 'f', 'g', '12', 'h', 11110, 'asd', None)\n",
      "Last Name: ('1', '1', '1', '1', '2', '1', 'e', 11112, '1', '1')\n",
      "City: ('', 'l', 'l', 'l', 'l', '7', 'l', 11113, 'u', '')\n",
      "Country: ('a', 's', 'd', 'f', 'g', '5', 'h', 11114, 'r', '')\n",
      "Email: ('a', 's', 'df', 'g', 'j', '1', 'k', 11115, 's', '')\n",
      "Contact Number: ('a', 's', 'd', 'f', 'g', '4', 'h', 11116, 'g', 'g')\n",
      "2nd Contact Number: ('a', 's', 'd', 'gf', 'gh', '1', 'h', 11120, 's', 's')\n",
      "Occupation: ('a', 's', 'd', 'f', 'g', '1', 'h', 11117, 's', '')\n",
      "ID: ('a', 's', 'd', 'f', 'g', '1', 'h', 11118, 's', '')\n",
      "Address: ('a', 's', 'd', 'f', 'g', '1', 'h', 11119, 'w', '')\n",
      "\n",
      "Press-------> 1 to Add Contact data \n",
      "Press-----> 2 to display contact nformation \n",
      "Press----> 3 to edit contact information \n",
      "Press---> 4 to delete contact information\n",
      "Press -------> 5 To Exit\n"
     ]
    },
    {
     "name": "stdin",
     "output_type": "stream",
     "text": [
      "Enter your choice: 2\n"
     ]
    },
    {
     "name": "stdout",
     "output_type": "stream",
     "text": [
      "\n",
      "Displaying contact information\n",
      "To display ----whole data-----> press 1\n",
      "To ----view specific data-----> press 2\n"
     ]
    },
    {
     "name": "stdin",
     "output_type": "stream",
     "text": [
      "Enter your option: 2\n",
      "Enter the ID to view its data: 11111\n"
     ]
    },
    {
     "name": "stdout",
     "output_type": "stream",
     "text": [
      "Try again something wet wrong!\n",
      "\n",
      "Press-------> 1 to Add Contact data \n",
      "Press-----> 2 to display contact nformation \n",
      "Press----> 3 to edit contact information \n",
      "Press---> 4 to delete contact information\n",
      "Press -------> 5 To Exit\n"
     ]
    },
    {
     "name": "stdin",
     "output_type": "stream",
     "text": [
      "Enter your choice: 2\n"
     ]
    },
    {
     "name": "stdout",
     "output_type": "stream",
     "text": [
      "\n",
      "Displaying contact information\n",
      "To display ----whole data-----> press 1\n",
      "To ----view specific data-----> press 2\n"
     ]
    },
    {
     "name": "stdin",
     "output_type": "stream",
     "text": [
      "Enter your option: 2\n",
      "Enter the ID to view its data: 11111\n"
     ]
    },
    {
     "name": "stdout",
     "output_type": "stream",
     "text": [
      "Try again something wet wrong!\n",
      "\n",
      "Press-------> 1 to Add Contact data \n",
      "Press-----> 2 to display contact nformation \n",
      "Press----> 3 to edit contact information \n",
      "Press---> 4 to delete contact information\n",
      "Press -------> 5 To Exit\n"
     ]
    },
    {
     "name": "stdin",
     "output_type": "stream",
     "text": [
      "Enter your choice: 2\n"
     ]
    },
    {
     "name": "stdout",
     "output_type": "stream",
     "text": [
      "\n",
      "Displaying contact information\n",
      "To display ----whole data-----> press 1\n",
      "To ----view specific data-----> press 2\n"
     ]
    },
    {
     "name": "stdin",
     "output_type": "stream",
     "text": [
      "Enter your option: 1\n"
     ]
    },
    {
     "name": "stdout",
     "output_type": "stream",
     "text": [
      "\n",
      "--- Dispalying Data---\n",
      "First Name: ('asd', 's', 'd', 'f', 'g', '12', 'h', 11110, 'asd', None)\n",
      "Last Name: ('1', '1', '1', '1', '2', '1', 'e', 11112, '1', '1')\n",
      "City: ('', 'l', 'l', 'l', 'l', '7', 'l', 11113, 'u', '')\n",
      "Country: ('a', 's', 'd', 'f', 'g', '5', 'h', 11114, 'r', '')\n",
      "Email: ('a', 's', 'df', 'g', 'j', '1', 'k', 11115, 's', '')\n",
      "Contact Number: ('a', 's', 'd', 'f', 'g', '4', 'h', 11116, 'g', 'g')\n",
      "2nd Contact Number: ('a', 's', 'd', 'gf', 'gh', '1', 'h', 11120, 's', 's')\n",
      "Occupation: ('a', 's', 'd', 'f', 'g', '1', 'h', 11117, 's', '')\n",
      "ID: ('a', 's', 'd', 'f', 'g', '1', 'h', 11118, 's', '')\n",
      "Address: ('a', 's', 'd', 'f', 'g', '1', 'h', 11119, 'w', '')\n",
      "\n",
      "Press-------> 1 to Add Contact data \n",
      "Press-----> 2 to display contact nformation \n",
      "Press----> 3 to edit contact information \n",
      "Press---> 4 to delete contact information\n",
      "Press -------> 5 To Exit\n"
     ]
    },
    {
     "name": "stdin",
     "output_type": "stream",
     "text": [
      "Enter your choice: 2\n"
     ]
    },
    {
     "name": "stdout",
     "output_type": "stream",
     "text": [
      "\n",
      "Displaying contact information\n",
      "To display ----whole data-----> press 1\n",
      "To ----view specific data-----> press 2\n"
     ]
    },
    {
     "name": "stdin",
     "output_type": "stream",
     "text": [
      "Enter your option: 2\n",
      "Enter the ID to view its data: 11111\n"
     ]
    },
    {
     "name": "stdout",
     "output_type": "stream",
     "text": [
      "Try again something wet wrong!\n",
      "\n",
      "Press-------> 1 to Add Contact data \n",
      "Press-----> 2 to display contact nformation \n",
      "Press----> 3 to edit contact information \n",
      "Press---> 4 to delete contact information\n",
      "Press -------> 5 To Exit\n"
     ]
    },
    {
     "name": "stdin",
     "output_type": "stream",
     "text": [
      "Enter your choice: 2\n"
     ]
    },
    {
     "name": "stdout",
     "output_type": "stream",
     "text": [
      "\n",
      "Displaying contact information\n",
      "To display ----whole data-----> press 1\n",
      "To ----view specific data-----> press 2\n"
     ]
    },
    {
     "name": "stdin",
     "output_type": "stream",
     "text": [
      "Enter your option: 2\n",
      "Enter the ID to view its data: 11110\n"
     ]
    },
    {
     "name": "stdout",
     "output_type": "stream",
     "text": [
      "\n",
      "--- Dispalying Data---\n",
      "First Name: asd\n",
      "Last Name: s\n",
      "City: d\n",
      "Country: f\n",
      "Email: g\n",
      "Contact Number: 12\n",
      "2nd Contact Number: None\n",
      "Occupation: h\n",
      "ID: 11110\n",
      "Address: asd\n",
      "\n",
      "Press-------> 1 to Add Contact data \n",
      "Press-----> 2 to display contact nformation \n",
      "Press----> 3 to edit contact information \n",
      "Press---> 4 to delete contact information\n",
      "Press -------> 5 To Exit\n"
     ]
    },
    {
     "name": "stdin",
     "output_type": "stream",
     "text": [
      "Enter your choice: 4\n"
     ]
    },
    {
     "name": "stdout",
     "output_type": "stream",
     "text": [
      "\n",
      "Process of deleting contact information starts\n",
      "To delete ----whole data----> press 11\n",
      "To ----delete specific data----> press 12\n"
     ]
    },
    {
     "name": "stdin",
     "output_type": "stream",
     "text": [
      "Enter your option:  12\n"
     ]
    },
    {
     "name": "stdout",
     "output_type": "stream",
     "text": [
      "----------Process for Deleting Specific data ----------\n"
     ]
    },
    {
     "name": "stdin",
     "output_type": "stream",
     "text": [
      "Enter the id to delete data:  11111\n"
     ]
    },
    {
     "name": "stdout",
     "output_type": "stream",
     "text": [
      "0 record(s) deleted!\n",
      "\n",
      "Press-------> 1 to Add Contact data \n",
      "Press-----> 2 to display contact nformation \n",
      "Press----> 3 to edit contact information \n",
      "Press---> 4 to delete contact information\n",
      "Press -------> 5 To Exit\n"
     ]
    },
    {
     "name": "stdin",
     "output_type": "stream",
     "text": [
      "Enter your choice: 2\n"
     ]
    },
    {
     "name": "stdout",
     "output_type": "stream",
     "text": [
      "\n",
      "Displaying contact information\n",
      "To display ----whole data-----> press 1\n",
      "To ----view specific data-----> press 2\n"
     ]
    },
    {
     "name": "stdin",
     "output_type": "stream",
     "text": [
      "Enter your option: 12\n"
     ]
    },
    {
     "name": "stdout",
     "output_type": "stream",
     "text": [
      "Enter correct option!\n",
      "\n",
      "Press-------> 1 to Add Contact data \n",
      "Press-----> 2 to display contact nformation \n",
      "Press----> 3 to edit contact information \n",
      "Press---> 4 to delete contact information\n",
      "Press -------> 5 To Exit\n"
     ]
    },
    {
     "name": "stdin",
     "output_type": "stream",
     "text": [
      "Enter your choice: 2\n"
     ]
    },
    {
     "name": "stdout",
     "output_type": "stream",
     "text": [
      "\n",
      "Displaying contact information\n",
      "To display ----whole data-----> press 1\n",
      "To ----view specific data-----> press 2\n"
     ]
    },
    {
     "name": "stdin",
     "output_type": "stream",
     "text": [
      "Enter your option: 2\n",
      "Enter the ID to view its data: 11112\n"
     ]
    },
    {
     "name": "stdout",
     "output_type": "stream",
     "text": [
      "\n",
      "--- Dispalying Data---\n",
      "First Name: 1\n",
      "Last Name: 1\n",
      "City: 1\n",
      "Country: 1\n",
      "Email: 2\n",
      "Contact Number: 1\n",
      "2nd Contact Number: 1\n",
      "Occupation: e\n",
      "ID: 11112\n",
      "Address: 1\n",
      "\n",
      "Press-------> 1 to Add Contact data \n",
      "Press-----> 2 to display contact nformation \n",
      "Press----> 3 to edit contact information \n",
      "Press---> 4 to delete contact information\n",
      "Press -------> 5 To Exit\n"
     ]
    },
    {
     "name": "stdin",
     "output_type": "stream",
     "text": [
      "Enter your choice: 3\n"
     ]
    },
    {
     "name": "stdout",
     "output_type": "stream",
     "text": [
      "\n",
      "Starting the process of editing contact information\n"
     ]
    },
    {
     "name": "stdin",
     "output_type": "stream",
     "text": [
      "Enter The ID To start editing process 11110\n"
     ]
    },
    {
     "name": "stdout",
     "output_type": "stream",
     "text": [
      "--------Process for editing data-------- \n",
      "\tTo edit first name--------------> press 1\n",
      "        To edit last name-------------> press 2\n",
      "        To edit City press ---------------> 3 \n",
      "        To edit Country press ----------> 4 \n",
      "        To edit Email press ----------> 5\n",
      "        To edit contact Number-> press 6\n",
      "        To edit Occupation --->press 7\n",
      "        To edit Address ---> press 8\n",
      "        To edit 2nd Contact Number---> press 9\n",
      "        To exit-------------------> press 10\n"
     ]
    },
    {
     "name": "stdin",
     "output_type": "stream",
     "text": [
      "Enter Your Option:  1\n",
      "Enter the name to set as fist name  q\n"
     ]
    },
    {
     "name": "stdout",
     "output_type": "stream",
     "text": [
      "1 record(s) affected\n",
      "--------Process for editing data-------- \n",
      "\tTo edit first name--------------> press 1\n",
      "        To edit last name-------------> press 2\n",
      "        To edit City press ---------------> 3 \n",
      "        To edit Country press ----------> 4 \n",
      "        To edit Email press ----------> 5\n",
      "        To edit contact Number-> press 6\n",
      "        To edit Occupation --->press 7\n",
      "        To edit Address ---> press 8\n",
      "        To edit 2nd Contact Number---> press 9\n",
      "        To exit-------------------> press 10\n"
     ]
    },
    {
     "name": "stdin",
     "output_type": "stream",
     "text": [
      "Enter Your Option:  10\n"
     ]
    },
    {
     "name": "stdout",
     "output_type": "stream",
     "text": [
      "\n",
      "Press-------> 1 to Add Contact data \n",
      "Press-----> 2 to display contact nformation \n",
      "Press----> 3 to edit contact information \n",
      "Press---> 4 to delete contact information\n",
      "Press -------> 5 To Exit\n"
     ]
    },
    {
     "name": "stdin",
     "output_type": "stream",
     "text": [
      "Enter your choice: 4\n"
     ]
    },
    {
     "name": "stdout",
     "output_type": "stream",
     "text": [
      "\n",
      "Process of deleting contact information starts\n",
      "To delete ----whole data----> press 11\n",
      "To ----delete specific data----> press 12\n"
     ]
    },
    {
     "name": "stdin",
     "output_type": "stream",
     "text": [
      "Enter your option:  12\n"
     ]
    },
    {
     "name": "stdout",
     "output_type": "stream",
     "text": [
      "----------Process for Deleting Specific data ----------\n"
     ]
    },
    {
     "name": "stdin",
     "output_type": "stream",
     "text": [
      "Enter the id to delete data:  11112\n"
     ]
    },
    {
     "name": "stdout",
     "output_type": "stream",
     "text": [
      "1 record(s) deleted!\n",
      "\n",
      "Press-------> 1 to Add Contact data \n",
      "Press-----> 2 to display contact nformation \n",
      "Press----> 3 to edit contact information \n",
      "Press---> 4 to delete contact information\n",
      "Press -------> 5 To Exit\n"
     ]
    },
    {
     "name": "stdin",
     "output_type": "stream",
     "text": [
      "Enter your choice: 5\n"
     ]
    },
    {
     "name": "stdout",
     "output_type": "stream",
     "text": [
      "\n",
      "Exiting the system\n"
     ]
    },
    {
     "name": "stdin",
     "output_type": "stream",
     "text": [
      "\n",
      "Welcome to Call Directory Management System\n",
      "To create Account press 1\n",
      "For login press 2\n",
      "For Exit press 3\n",
      " 1\n"
     ]
    },
    {
     "name": "stdout",
     "output_type": "stream",
     "text": [
      "Let's begin the process of creating account...............\n",
      "For this, please enter the requires details\n"
     ]
    },
    {
     "name": "stdin",
     "output_type": "stream",
     "text": [
      "Enter your name: ali\n",
      "Enter your father name: as\n",
      "Enter your CNIC number: 123\n",
      "Enter your Contact number: 3\n",
      "Enter your residental address: e\n",
      "Enter your Email: r\n",
      "Enter your username: t\n",
      "Create your password: 1234\n"
     ]
    },
    {
     "ename": "NameError",
     "evalue": "name 'cur' is not defined",
     "output_type": "error",
     "traceback": [
      "\u001b[1;31m---------------------------------------------------------------------------\u001b[0m",
      "\u001b[1;31mNameError\u001b[0m                                 Traceback (most recent call last)",
      "Cell \u001b[1;32mIn[15], line 14\u001b[0m\n\u001b[0;32m     12\u001b[0m             \u001b[38;5;28mprint\u001b[39m(\u001b[38;5;124m\"\u001b[39m\u001b[38;5;124mThanks for visiting us!\u001b[39m\u001b[38;5;124m\"\u001b[39m )\n\u001b[0;32m     13\u001b[0m             \u001b[38;5;28;01mbreak\u001b[39;00m\n\u001b[1;32m---> 14\u001b[0m call()\n",
      "Cell \u001b[1;32mIn[15], line 8\u001b[0m, in \u001b[0;36mcall\u001b[1;34m()\u001b[0m\n\u001b[0;32m      5\u001b[0m intro \u001b[38;5;241m=\u001b[39m \u001b[38;5;28mint\u001b[39m(\u001b[38;5;28minput\u001b[39m(\u001b[38;5;124m\"\u001b[39m\u001b[38;5;130;01m\\n\u001b[39;00m\u001b[38;5;124mWelcome to Call Directory Management System\u001b[39m\u001b[38;5;130;01m\\n\u001b[39;00m\u001b[38;5;124mTo create Account press 1\u001b[39m\u001b[38;5;130;01m\\n\u001b[39;00m\u001b[38;5;124mFor login press 2\u001b[39m\u001b[38;5;130;01m\\n\u001b[39;00m\u001b[38;5;124mFor Exit press 3\u001b[39m\u001b[38;5;130;01m\\n\u001b[39;00m\u001b[38;5;124m\"\u001b[39m))\n\u001b[0;32m      7\u001b[0m \u001b[38;5;28;01mif\u001b[39;00m intro \u001b[38;5;241m==\u001b[39m\u001b[38;5;241m1\u001b[39m:\n\u001b[1;32m----> 8\u001b[0m     create_account(intro)\n\u001b[0;32m      9\u001b[0m \u001b[38;5;28;01melif\u001b[39;00m intro \u001b[38;5;241m==\u001b[39m\u001b[38;5;241m2\u001b[39m:\n\u001b[0;32m     10\u001b[0m     login(intro)\n",
      "Cell \u001b[1;32mIn[1], line 41\u001b[0m, in \u001b[0;36mcreate_account\u001b[1;34m(vew)\u001b[0m\n\u001b[0;32m     39\u001b[0m select \u001b[38;5;241m=\u001b[39m \u001b[38;5;124m\"\u001b[39m\u001b[38;5;124mselect * from client_data1 where cnic = \u001b[39m\u001b[38;5;132;01m%s\u001b[39;00m\u001b[38;5;124m\"\u001b[39m\n\u001b[0;32m     40\u001b[0m connect\u001b[38;5;241m.\u001b[39mexecute(select,(cnic,))\n\u001b[1;32m---> 41\u001b[0m existing_account \u001b[38;5;241m=\u001b[39m cur\u001b[38;5;241m.\u001b[39mfetchone()\n\u001b[0;32m     43\u001b[0m \u001b[38;5;28;01mif\u001b[39;00m existing_account:\n\u001b[0;32m     44\u001b[0m     \u001b[38;5;28mprint\u001b[39m(\u001b[38;5;124m\"\u001b[39m\u001b[38;5;124mAccount creation failed! Your account already exists \u001b[39m\u001b[38;5;124m\"\u001b[39m)\n",
      "\u001b[1;31mNameError\u001b[0m: name 'cur' is not defined"
     ]
    }
   ],
   "source": [
    "def call():\n",
    "    entry = input(\"Enter your name:\\t\")\n",
    "    print(f\"Welcome {entry.capitalize()}!\")\n",
    "    while 1:\n",
    "        intro = int(input(\"\\nWelcome to Call Directory Management System\\nTo create Account press 1\\nFor login press 2\\nFor Exit press 3\\n\"))\n",
    "        \n",
    "        if intro ==1:\n",
    "            create_account(intro)\n",
    "        elif intro ==2:\n",
    "            login(intro)\n",
    "        else: \n",
    "            print(\"Thanks for visiting us!\" )\n",
    "            break\n",
    "call()"
   ]
  }
 ],
 "metadata": {
  "kernelspec": {
   "display_name": "Python 3 (ipykernel)",
   "language": "python",
   "name": "python3"
  },
  "language_info": {
   "codemirror_mode": {
    "name": "ipython",
    "version": 3
   },
   "file_extension": ".py",
   "mimetype": "text/x-python",
   "name": "python",
   "nbconvert_exporter": "python",
   "pygments_lexer": "ipython3",
   "version": "3.12.7"
  }
 },
 "nbformat": 4,
 "nbformat_minor": 5
}
